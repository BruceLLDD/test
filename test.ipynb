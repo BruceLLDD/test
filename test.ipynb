{
 "cells": [
  {
   "cell_type": "code",
   "execution_count": 27,
   "metadata": {
    "scrolled": true
   },
   "outputs": [
    {
     "data": {
      "image/png": "[encoded data removed]",
      "text/plain": [
       "<Figure size 432x288 with 1 Axes>"
      ]
     },
     "metadata": {
      "needs_background": "light"
     },
     "output_type": "display_data"
    }
   ],
   "source": [
    "import numpy as np\n",
    "from timeit import timeit\n",
    "def slow_matvec(matrix, vector):\n",
    "    assert matrix.shape[1] == vector.shape[0]\n",
    "    result = []\n",
    "    for r in range(matrix.shape[0]):\n",
    "        value = 0\n",
    "        for c in range(matrix.shape[1]):\n",
    "            value += matrix[r, c] * vector[c]\n",
    "        result.append(value)\n",
    "    return np.array(result)\n",
    "\n",
    "def fast_plus_matvec(matrix, vector):\n",
    "    assert matrix.shape[1] == vector.shape[0]\n",
    "    result = []\n",
    "    for r in range(matrix.shape[0]):\n",
    "        val = 0\n",
    "        tem = matrix[r]*vector\n",
    "#         for c in range(tem.shape[0]):\n",
    "#             val += tem[c]\n",
    "        val = np.sum(tem)\n",
    "        result.append(val)\n",
    "    return np.array(result)\n",
    "\n",
    "def fast_matvec(matrix, vector):\n",
    "    assert matrix.shape[1] == vector.shape[0]\n",
    "    result = []\n",
    "    for r in range(matrix.shape[0]):\n",
    "        val = 0\n",
    "        tem = matrix[r]*vector\n",
    "        for c in range(tem.shape[0]):\n",
    "            val += tem[c]\n",
    "        result.append(val)\n",
    "    return np.array(result)\n",
    "\n",
    "mv_size = [2,10,100,500]\n",
    "t1 = []\n",
    "t2 = []\n",
    "t3 = []\n",
    "for s in mv_size:\n",
    "    matrix = np.random.rand(s, s)\n",
    "    vector = np.random.rand(s)\n",
    "    ts = timeit(lambda:slow_matvec(matrix, vector), number =10)\n",
    "    t1.append(ts)\n",
    "    tf = timeit(lambda:fast_matvec(matrix, vector), number =10)\n",
    "    t2.append(tf)\n",
    "    tfp = timeit(lambda:fast_plus_matvec(matrix, vector), number =10)\n",
    "    t3.append(tfp)\n",
    "\n",
    "import matplotlib.pylab as plt\n",
    "plt.plot(mv_size, t1, c='red', label=\"slow\")\n",
    "plt.plot(mv_size, t2, c='green', label=\"fast\")\n",
    "plt.plot(mv_size, t3, c='blue', label=\"fast+\")\n",
    "plt.legend(loc='best')\n",
    "plt.yticks(range(0, 5, 1))\n",
    "plt.grid(True, linestyle='--', alpha=0.5)\n",
    "plt.xlabel(\"size\")\n",
    "plt.ylabel(\"time\")\n",
    "plt.title(\"slow and fast\")\n",
    "plt.show()\n",
    "# print(fast_matvec(matrix, vector))\n",
    "# print(matrix @ vector)\n"
   ]
  },
  {
   "cell_type": "code",
   "execution_count": 37,
   "metadata": {},
   "outputs": [
    {
     "name": "stdout",
     "output_type": "stream",
     "text": [
      "[[0.77858632 0.44136718 0.70228224]\n",
      " [0.82272296 0.43209966 0.08103942]\n",
      " [0.32412196 0.17487573 0.09666287]]\n",
      "[[0.02030871 0.37069303 0.3861039 ]\n",
      " [0.35680821 0.23960006 0.12638062]\n",
      " [0.6079141  0.002855   0.66995201]]\n",
      "[0.98503101 0.61314809 1.18243653]\n"
     ]
    }
   ],
   "source": [
    "# test = np.random.rand(3, 3)\n",
    "# test2 = np.random.rand(3, 3)\n",
    "# print(test)\n",
    "# test3 = test[0]*test2\n",
    "# print(test3)\n",
    "# print(np.sum(test3,axis = 0))"
   ]
  },
  {
   "cell_type": "code",
   "execution_count": 54,
   "metadata": {},
   "outputs": [
    {
     "name": "stdout",
     "output_type": "stream",
     "text": [
      "1000\n"
     ]
    },
    {
     "data": {
      "image/png": "[encoded data removed]",
      "text/plain": [
       "<Figure size 432x288 with 1 Axes>"
      ]
     },
     "metadata": {
      "needs_background": "light"
     },
     "output_type": "display_data"
    }
   ],
   "source": [
    "import numpy as np\n",
    "\n",
    "\n",
    "def fast_matrix_product(mat1, mat2):\n",
    "    \"\"\"Multiply two matrices.\"\"\"\n",
    "    assert mat1.shape[1] == mat2.shape[0]\n",
    "    result = []\n",
    "    for c in range(mat2.shape[1]):\n",
    "        column = []\n",
    "#         tem = []\n",
    "#         tem = np.transpose([mat1[c,:]])*mat2\n",
    "        column = np.sum(np.transpose([mat1[c,:]])*mat2, axis=0)\n",
    "#         for r in range(mat1.shape[0]):\n",
    "#             value = 0\n",
    "#             for i in range(mat1.shape[1]):\n",
    "#                 value += mat1[r, i] * mat2[i, c]\n",
    "#             column.append(value)\n",
    "        result.append(column)\n",
    "    return np.array(result).transpose()\n",
    "def slow_matrix_product(mat1, mat2):\n",
    "    \"\"\"Multiply two matrices.\"\"\"\n",
    "    assert mat1.shape[1] == mat2.shape[0]\n",
    "    result = []\n",
    "    for c in range(mat2.shape[1]):\n",
    "        column = []\n",
    "        for r in range(mat1.shape[0]):\n",
    "            value = 0\n",
    "            for i in range(mat1.shape[1]):\n",
    "                value += mat1[r, i] * mat2[i, c]\n",
    "            column.append(value)\n",
    "        result.append(column)\n",
    "    return np.array(result).transpose()\n",
    "\n",
    "\n",
    "# matrix1 = np.random.rand(3, 3)\n",
    "# matrix2 = np.random.rand(3, 3)\n",
    "\n",
    "# print(slow_matrix_product(matrix1, matrix2))\n",
    "# print(matrix1 @ matrix2)\n",
    "mv_size = [5,10,50,100,200,250,1000]\n",
    "t1 = []\n",
    "t2 = []\n",
    "for s in mv_size:\n",
    "    matrix1 = np.random.rand(s,s)\n",
    "    matrix2 = np.random.rand(s,s)\n",
    "    print(s)\n",
    "    ts = timeit(lambda:slow_matvec(matrix1, matrix2), number =1)\n",
    "    t1.append(ts)\n",
    "    tf = timeit(lambda:fast_matvec(matrix1, matrix2), number =1)\n",
    "    t2.append(tf)\n",
    "#     tfp = timeit(lambda:fast_plus_matvec(matrix, vector), number =10)\n",
    "#     t3.append(tfp)\n",
    "\n",
    "import matplotlib.pylab as plt\n",
    "plt.plot(mv_size, t1, c='red', label=\"slow\")\n",
    "plt.plot(mv_size, t2, c='green', label=\"fast\")\n",
    "# plt.plot(mv_size, t3, c='blue', label=\"fast+\")\n",
    "plt.legend(loc='best')\n",
    "plt.yticks(range(0, 4, 1))\n",
    "plt.grid(True, linestyle='--', alpha=0.5)\n",
    "plt.xlabel(\"size\")\n",
    "plt.ylabel(\"time\")\n",
    "plt.title(\"slow and fast\")\n",
    "plt.show()"
   ]
  },
  {
   "cell_type": "code",
   "execution_count": null,
   "metadata": {},
   "outputs": [],
   "source": []
  }
 ],
 "metadata": {
  "kernelspec": {
   "display_name": "Python 3",
   "language": "python",
   "name": "python3"
  },
  "language_info": {
   "codemirror_mode": {
    "name": "ipython",
    "version": 3
   },
   "file_extension": ".py",
   "mimetype": "text/x-python",
   "name": "python",
   "nbconvert_exporter": "python",
   "pygments_lexer": "ipython3",
   "version": "3.7.6"
  }
 },
 "nbformat": 4,
 "nbformat_minor": 4
}
